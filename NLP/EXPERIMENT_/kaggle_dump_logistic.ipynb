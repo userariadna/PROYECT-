{
  "nbformat": 4,
  "nbformat_minor": 5,
  "metadata": {
    "interpreter": {
      "hash": "e195a32bf093c68bedb81483247e27cd556f5bde2366ba450d0357449caa0be4"
    },
    "kernelspec": {
      "display_name": "Python 3.7.9 64-bit",
      "name": "python3"
    },
    "language_info": {
      "codemirror_mode": {
        "name": "ipython",
        "version": 3
      },
      "file_extension": ".py",
      "mimetype": "text/x-python",
      "name": "python",
      "nbconvert_exporter": "python",
      "pygments_lexer": "ipython3",
      "version": "3.7.9"
    },
    "colab": {
      "name": "kaggle_dump_logistic.ipynb",
      "provenance": []
    }
  },
  "cells": [
    {
      "cell_type": "markdown",
      "metadata": {
        "id": "hKcZqgGBgjil"
      },
      "source": [
        "#Importing libraries\n"
      ],
      "id": "hKcZqgGBgjil"
    },
    {
      "cell_type": "code",
      "metadata": {
        "id": "AmpluxX-goSy"
      },
      "source": [
        "from sklearn.model_selection import KFold\n",
        "from nltk.tokenize import TweetTokenizer\n",
        "from nltk.stem import PorterStemmer\n",
        "from nltk.corpus import stopwords\n",
        "\n",
        "import pandas as pd\n",
        "import numpy as np\n",
        "import pickle\n",
        "\n",
        "import nltk\n",
        "import re"
      ],
      "id": "AmpluxX-goSy",
      "execution_count": null,
      "outputs": []
    },
    {
      "cell_type": "markdown",
      "metadata": {
        "id": "9ROiiuZDg3A1"
      },
      "source": [
        "#Class for cleaning data"
      ],
      "id": "9ROiiuZDg3A1"
    },
    {
      "cell_type": "code",
      "metadata": {
        "id": "af121839"
      },
      "source": [
        "class TweetCleaner():\n",
        "    def __init__(self):\n",
        "        pass\n",
        "\n",
        "\n",
        "    def _scrub_words(self, text):\n",
        "\n",
        "        text=re.sub(\"(<.*?>)\",\"\",text)\n",
        "        text=re.sub(\"(\\\\W|\\\\d)\",\" \",text)\n",
        "        text=text.strip()\n",
        "\n",
        "        return text\n",
        "  \n",
        "\n",
        "    def _cleanString(self, s, special_chars = \"\\\":,.|#ðÿœžðÿâœœïÿœžÿºÿÿœžÿ\"):\n",
        "\n",
        "        web_regex =  r\"(?i)\\b((?:https?://|www\\d{0,3}[.]|[a-z0-9.\\-]+[.][a-z]{2,4}/)(?:[^\\s()<>]+|\\(([^\\s()<>]+|(\\([^\\s()<>]+\\)))*\\))+(?:\\(([^\\s()<>]+|(\\([^\\s()<>]+\\)))*\\)|[^\\s`!()\\[\\]{};:'\\\".,<>?«»“”‘’]))\"\n",
        "        s = re.sub('(?<!\\w)@[\\w+]{1,15}', '', s)\n",
        "        s = re.sub(web_regex, '', s)\n",
        "        \n",
        "        for char in special_chars:\n",
        "\n",
        "            s = s.replace(char, \"\")\n",
        "            s = s.replace(\"\\n\", \"\")\n",
        "            s = self._scrub_words(s)\n",
        "\n",
        "        tokenizer = TweetTokenizer()\n",
        "\n",
        "        stop_words = set(stopwords.words('english'))\n",
        "        cleaned_words = [w for w in tokenizer.tokenize(s) if w not in stop_words]\n",
        "        \n",
        "        return \" \".join(cleaned_words)\n",
        "\n",
        "    def _stemWords(self, sentence):\n",
        "        stemmer, tokenizer = PorterStemmer(), TweetTokenizer()\n",
        "        stemmed_words = [stemmer.stem(w) for w in tokenizer.tokenize(sentence)]\n",
        "        \n",
        "        return \" \".join(stemmed_words)\n",
        "    \n",
        "    def cleanFrame(self, frame):\n",
        "        frame['clean_paper'] = frame.comment_text.apply(self._cleanString)\n",
        "\n",
        "    def stemFrame(self, frame):\n",
        "        frame['stem_paper'] = frame.clean_paper.apply(self._stemWords)\n",
        "\n",
        "    \n",
        "    def rebrand_senti(self, senti):\n",
        "      \n",
        "        if senti != 0:\n",
        "            senti = 1\n",
        "\n",
        "        return senti\n",
        "\n",
        "        \n",
        "    "
      ],
      "id": "af121839",
      "execution_count": null,
      "outputs": []
    },
    {
      "cell_type": "markdown",
      "metadata": {
        "id": "a0FfWcAhgis3"
      },
      "source": [
        "# Reading csv"
      ],
      "id": "a0FfWcAhgis3"
    },
    {
      "cell_type": "code",
      "metadata": {
        "id": "a06703de",
        "colab": {
          "base_uri": "https://localhost:8080/",
          "height": 417
        },
        "outputId": "c8f6b92a-9a25-43bd-b550-1f21b68e23f0"
      },
      "source": [
        "a = pd.read_csv('/content/train.csv')\n",
        "a.head()"
      ],
      "id": "a06703de",
      "execution_count": null,
      "outputs": [
        {
          "output_type": "execute_result",
          "data": {
            "text/html": [
              "<div>\n",
              "<style scoped>\n",
              "    .dataframe tbody tr th:only-of-type {\n",
              "        vertical-align: middle;\n",
              "    }\n",
              "\n",
              "    .dataframe tbody tr th {\n",
              "        vertical-align: top;\n",
              "    }\n",
              "\n",
              "    .dataframe thead th {\n",
              "        text-align: right;\n",
              "    }\n",
              "</style>\n",
              "<table border=\"1\" class=\"dataframe\">\n",
              "  <thead>\n",
              "    <tr style=\"text-align: right;\">\n",
              "      <th></th>\n",
              "      <th>id</th>\n",
              "      <th>comment_text</th>\n",
              "      <th>toxic</th>\n",
              "      <th>severe_toxic</th>\n",
              "      <th>obscene</th>\n",
              "      <th>threat</th>\n",
              "      <th>insult</th>\n",
              "      <th>identity_hate</th>\n",
              "    </tr>\n",
              "  </thead>\n",
              "  <tbody>\n",
              "    <tr>\n",
              "      <th>0</th>\n",
              "      <td>0000997932d777bf</td>\n",
              "      <td>Explanation\\nWhy the edits made under my usern...</td>\n",
              "      <td>0</td>\n",
              "      <td>0</td>\n",
              "      <td>0</td>\n",
              "      <td>0</td>\n",
              "      <td>0</td>\n",
              "      <td>0</td>\n",
              "    </tr>\n",
              "    <tr>\n",
              "      <th>1</th>\n",
              "      <td>000103f0d9cfb60f</td>\n",
              "      <td>D'aww! He matches this background colour I'm s...</td>\n",
              "      <td>0</td>\n",
              "      <td>0</td>\n",
              "      <td>0</td>\n",
              "      <td>0</td>\n",
              "      <td>0</td>\n",
              "      <td>0</td>\n",
              "    </tr>\n",
              "    <tr>\n",
              "      <th>2</th>\n",
              "      <td>000113f07ec002fd</td>\n",
              "      <td>Hey man, I'm really not trying to edit war. It...</td>\n",
              "      <td>0</td>\n",
              "      <td>0</td>\n",
              "      <td>0</td>\n",
              "      <td>0</td>\n",
              "      <td>0</td>\n",
              "      <td>0</td>\n",
              "    </tr>\n",
              "    <tr>\n",
              "      <th>3</th>\n",
              "      <td>0001b41b1c6bb37e</td>\n",
              "      <td>\"\\nMore\\nI can't make any real suggestions on ...</td>\n",
              "      <td>0</td>\n",
              "      <td>0</td>\n",
              "      <td>0</td>\n",
              "      <td>0</td>\n",
              "      <td>0</td>\n",
              "      <td>0</td>\n",
              "    </tr>\n",
              "    <tr>\n",
              "      <th>4</th>\n",
              "      <td>0001d958c54c6e35</td>\n",
              "      <td>You, sir, are my hero. Any chance you remember...</td>\n",
              "      <td>0</td>\n",
              "      <td>0</td>\n",
              "      <td>0</td>\n",
              "      <td>0</td>\n",
              "      <td>0</td>\n",
              "      <td>0</td>\n",
              "    </tr>\n",
              "  </tbody>\n",
              "</table>\n",
              "</div>"
            ],
            "text/plain": [
              "                 id  ... identity_hate\n",
              "0  0000997932d777bf  ...             0\n",
              "1  000103f0d9cfb60f  ...             0\n",
              "2  000113f07ec002fd  ...             0\n",
              "3  0001b41b1c6bb37e  ...             0\n",
              "4  0001d958c54c6e35  ...             0\n",
              "\n",
              "[5 rows x 8 columns]"
            ]
          },
          "metadata": {},
          "execution_count": 4
        }
      ]
    },
    {
      "cell_type": "markdown",
      "metadata": {
        "id": "zoyjIMuKg-jv"
      },
      "source": [
        "#Balancing data"
      ],
      "id": "zoyjIMuKg-jv"
    },
    {
      "cell_type": "code",
      "metadata": {
        "colab": {
          "base_uri": "https://localhost:8080/"
        },
        "id": "dwttg_5eZa7P",
        "outputId": "187c4d50-8633-4d42-b6d7-756c69361123"
      },
      "source": [
        "df.toxic.unique()"
      ],
      "id": "dwttg_5eZa7P",
      "execution_count": null,
      "outputs": [
        {
          "output_type": "execute_result",
          "data": {
            "text/plain": [
              "array([0, 1])"
            ]
          },
          "metadata": {},
          "execution_count": 9
        }
      ]
    },
    {
      "cell_type": "code",
      "metadata": {
        "colab": {
          "base_uri": "https://localhost:8080/"
        },
        "id": "VW7IgeYyZq2k",
        "outputId": "a0d43cc9-90df-4833-d8f9-eaba349ea68b"
      },
      "source": [
        "df.toxic.value_counts()"
      ],
      "id": "VW7IgeYyZq2k",
      "execution_count": null,
      "outputs": [
        {
          "output_type": "execute_result",
          "data": {
            "text/plain": [
              "0    148543\n",
              "1     15767\n",
              "Name: toxic, dtype: int64"
            ]
          },
          "metadata": {},
          "execution_count": 10
        }
      ]
    },
    {
      "cell_type": "code",
      "metadata": {
        "id": "wz7T9kTXZ9x6"
      },
      "source": [
        "pos = df[df.toxic==0]\n",
        "neg = df[df.toxic==1]\n",
        "\n",
        "size = neg.shape[0]"
      ],
      "id": "wz7T9kTXZ9x6",
      "execution_count": null,
      "outputs": []
    },
    {
      "cell_type": "code",
      "metadata": {
        "colab": {
          "base_uri": "https://localhost:8080/"
        },
        "id": "2O5Iq_I4alOz",
        "outputId": "24d31a5e-7aaa-4b22-96a5-7441f8caf6f1"
      },
      "source": [
        "pos_bal = pos.sample(len(neg))\n",
        "len(pos_bal)"
      ],
      "id": "2O5Iq_I4alOz",
      "execution_count": null,
      "outputs": [
        {
          "output_type": "execute_result",
          "data": {
            "text/plain": [
              "15767"
            ]
          },
          "metadata": {},
          "execution_count": 16
        }
      ]
    },
    {
      "cell_type": "code",
      "metadata": {
        "colab": {
          "base_uri": "https://localhost:8080/"
        },
        "id": "HejarNN_asQV",
        "outputId": "b71ae890-ec75-4f4d-f531-ad88d505f746"
      },
      "source": [
        "pos_bal.toxic.unique()"
      ],
      "id": "HejarNN_asQV",
      "execution_count": null,
      "outputs": [
        {
          "output_type": "execute_result",
          "data": {
            "text/plain": [
              "array([0])"
            ]
          },
          "metadata": {},
          "execution_count": 18
        }
      ]
    },
    {
      "cell_type": "code",
      "metadata": {
        "colab": {
          "base_uri": "https://localhost:8080/",
          "height": 424
        },
        "id": "LPRE1W6Ra3mm",
        "outputId": "77f5b27f-3214-4ea3-bf16-6e3261961e69"
      },
      "source": [
        "df = pd.concat([pos_bal, neg])\n",
        "df.reset_index(drop=True, inplace=True)\n",
        "df"
      ],
      "id": "LPRE1W6Ra3mm",
      "execution_count": null,
      "outputs": [
        {
          "output_type": "execute_result",
          "data": {
            "text/html": [
              "<div>\n",
              "<style scoped>\n",
              "    .dataframe tbody tr th:only-of-type {\n",
              "        vertical-align: middle;\n",
              "    }\n",
              "\n",
              "    .dataframe tbody tr th {\n",
              "        vertical-align: top;\n",
              "    }\n",
              "\n",
              "    .dataframe thead th {\n",
              "        text-align: right;\n",
              "    }\n",
              "</style>\n",
              "<table border=\"1\" class=\"dataframe\">\n",
              "  <thead>\n",
              "    <tr style=\"text-align: right;\">\n",
              "      <th></th>\n",
              "      <th>comment_text</th>\n",
              "      <th>toxic</th>\n",
              "    </tr>\n",
              "  </thead>\n",
              "  <tbody>\n",
              "    <tr>\n",
              "      <th>0</th>\n",
              "      <td>\"\\n\\n Please do not vandalize pages, as you di...</td>\n",
              "      <td>0</td>\n",
              "    </tr>\n",
              "    <tr>\n",
              "      <th>1</th>\n",
              "      <td>\"::Yes, lets pretend it was just \"\"general cha...</td>\n",
              "      <td>0</td>\n",
              "    </tr>\n",
              "    <tr>\n",
              "      <th>2</th>\n",
              "      <td>Well, it's also almost 9:00am here, and I have...</td>\n",
              "      <td>0</td>\n",
              "    </tr>\n",
              "    <tr>\n",
              "      <th>3</th>\n",
              "      <td>Obsessive-compulsive_disorder 76.166.31.163</td>\n",
              "      <td>0</td>\n",
              "    </tr>\n",
              "    <tr>\n",
              "      <th>4</th>\n",
              "      <td>it would be informative for me to add it</td>\n",
              "      <td>0</td>\n",
              "    </tr>\n",
              "    <tr>\n",
              "      <th>...</th>\n",
              "      <td>...</td>\n",
              "      <td>...</td>\n",
              "    </tr>\n",
              "    <tr>\n",
              "      <th>31529</th>\n",
              "      <td>\"\\n\\n our previous conversation \\n\\nyou fuckin...</td>\n",
              "      <td>1</td>\n",
              "    </tr>\n",
              "    <tr>\n",
              "      <th>31530</th>\n",
              "      <td>YOU ARE A MISCHIEVIOUS PUBIC HAIR</td>\n",
              "      <td>1</td>\n",
              "    </tr>\n",
              "    <tr>\n",
              "      <th>31531</th>\n",
              "      <td>Your absurd edits \\n\\nYour absurd edits on gre...</td>\n",
              "      <td>1</td>\n",
              "    </tr>\n",
              "    <tr>\n",
              "      <th>31532</th>\n",
              "      <td>\"\\n\\nHey listen don't you ever!!!! Delete my e...</td>\n",
              "      <td>1</td>\n",
              "    </tr>\n",
              "    <tr>\n",
              "      <th>31533</th>\n",
              "      <td>and i'm going to keep posting the stuff u dele...</td>\n",
              "      <td>1</td>\n",
              "    </tr>\n",
              "  </tbody>\n",
              "</table>\n",
              "<p>31534 rows × 2 columns</p>\n",
              "</div>"
            ],
            "text/plain": [
              "                                            comment_text  toxic\n",
              "0      \"\\n\\n Please do not vandalize pages, as you di...      0\n",
              "1      \"::Yes, lets pretend it was just \"\"general cha...      0\n",
              "2      Well, it's also almost 9:00am here, and I have...      0\n",
              "3            Obsessive-compulsive_disorder 76.166.31.163      0\n",
              "4               it would be informative for me to add it      0\n",
              "...                                                  ...    ...\n",
              "31529  \"\\n\\n our previous conversation \\n\\nyou fuckin...      1\n",
              "31530                  YOU ARE A MISCHIEVIOUS PUBIC HAIR      1\n",
              "31531  Your absurd edits \\n\\nYour absurd edits on gre...      1\n",
              "31532  \"\\n\\nHey listen don't you ever!!!! Delete my e...      1\n",
              "31533  and i'm going to keep posting the stuff u dele...      1\n",
              "\n",
              "[31534 rows x 2 columns]"
            ]
          },
          "metadata": {},
          "execution_count": 22
        }
      ]
    },
    {
      "cell_type": "code",
      "metadata": {
        "colab": {
          "base_uri": "https://localhost:8080/"
        },
        "id": "THQOShZgbFmz",
        "outputId": "f1816b44-f757-4204-bee1-e13b760a0318"
      },
      "source": [
        "df.toxic.value_counts()"
      ],
      "id": "THQOShZgbFmz",
      "execution_count": null,
      "outputs": [
        {
          "output_type": "execute_result",
          "data": {
            "text/plain": [
              "1    15767\n",
              "0    15767\n",
              "Name: toxic, dtype: int64"
            ]
          },
          "metadata": {},
          "execution_count": 20
        }
      ]
    },
    {
      "cell_type": "code",
      "metadata": {
        "colab": {
          "base_uri": "https://localhost:8080/"
        },
        "id": "hWhWsTUCNyzs",
        "outputId": "ce044243-dfb3-45ce-eb63-382d652dc8a8"
      },
      "source": [
        "df.columns"
      ],
      "id": "hWhWsTUCNyzs",
      "execution_count": null,
      "outputs": [
        {
          "output_type": "execute_result",
          "data": {
            "text/plain": [
              "Index(['comment_text', 'toxic'], dtype='object')"
            ]
          },
          "metadata": {},
          "execution_count": 21
        }
      ]
    },
    {
      "cell_type": "markdown",
      "metadata": {
        "id": "OnSzlZf0hCgZ"
      },
      "source": [
        "# Inicializating cleaner"
      ],
      "id": "OnSzlZf0hCgZ"
    },
    {
      "cell_type": "code",
      "metadata": {
        "colab": {
          "base_uri": "https://localhost:8080/"
        },
        "id": "v5DjzL4JN7Qx",
        "outputId": "39df37cc-4af0-44fa-85ac-aedb79b483d2"
      },
      "source": [
        "\n",
        "nltk.download(\"stopwords\")"
      ],
      "id": "v5DjzL4JN7Qx",
      "execution_count": null,
      "outputs": [
        {
          "output_type": "stream",
          "name": "stdout",
          "text": [
            "[nltk_data] Downloading package stopwords to /root/nltk_data...\n",
            "[nltk_data]   Package stopwords is already up-to-date!\n"
          ]
        },
        {
          "output_type": "execute_result",
          "data": {
            "text/plain": [
              "True"
            ]
          },
          "metadata": {},
          "execution_count": 23
        }
      ]
    },
    {
      "cell_type": "code",
      "metadata": {
        "id": "9c2cd9f0",
        "colab": {
          "base_uri": "https://localhost:8080/",
          "height": 310
        },
        "outputId": "93a8ced6-1e19-4910-ac37-349ff22ac6d1"
      },
      "source": [
        "clr = TweetCleaner()\n",
        "clr.cleanFrame(df)\n",
        "clr.stemFrame(df)\n",
        "\n",
        "#df.senti = df.senti.apply(clr.rebrand_senti)\n",
        "df.head()"
      ],
      "id": "9c2cd9f0",
      "execution_count": null,
      "outputs": [
        {
          "output_type": "execute_result",
          "data": {
            "text/html": [
              "<div>\n",
              "<style scoped>\n",
              "    .dataframe tbody tr th:only-of-type {\n",
              "        vertical-align: middle;\n",
              "    }\n",
              "\n",
              "    .dataframe tbody tr th {\n",
              "        vertical-align: top;\n",
              "    }\n",
              "\n",
              "    .dataframe thead th {\n",
              "        text-align: right;\n",
              "    }\n",
              "</style>\n",
              "<table border=\"1\" class=\"dataframe\">\n",
              "  <thead>\n",
              "    <tr style=\"text-align: right;\">\n",
              "      <th></th>\n",
              "      <th>comment_text</th>\n",
              "      <th>toxic</th>\n",
              "      <th>clean_paper</th>\n",
              "      <th>stem_paper</th>\n",
              "    </tr>\n",
              "  </thead>\n",
              "  <tbody>\n",
              "    <tr>\n",
              "      <th>0</th>\n",
              "      <td>\"\\n\\n Please do not vandalize pages, as you di...</td>\n",
              "      <td>0</td>\n",
              "      <td>Please vandalize pages edit Timeline evolution...</td>\n",
              "      <td>pleas vandal page edit timelin evolut If conti...</td>\n",
              "    </tr>\n",
              "    <tr>\n",
              "      <th>1</th>\n",
              "      <td>\"::Yes, lets pretend it was just \"\"general cha...</td>\n",
              "      <td>0</td>\n",
              "      <td>Yes lets pretend general chatter like talking ...</td>\n",
              "      <td>ye let pretend gener chatter like talk weather...</td>\n",
              "    </tr>\n",
              "    <tr>\n",
              "      <th>2</th>\n",
              "      <td>Well, it's also almost 9:00am here, and I have...</td>\n",
              "      <td>0</td>\n",
              "      <td>Well also almost I even morning coffee yet Tha...</td>\n",
              "      <td>well also almost I even morn coffe yet thank n...</td>\n",
              "    </tr>\n",
              "    <tr>\n",
              "      <th>3</th>\n",
              "      <td>Obsessive-compulsive_disorder 76.166.31.163</td>\n",
              "      <td>0</td>\n",
              "      <td>Obsessive compulsive_disorder</td>\n",
              "      <td>obsess compulsive_disord</td>\n",
              "    </tr>\n",
              "    <tr>\n",
              "      <th>4</th>\n",
              "      <td>it would be informative for me to add it</td>\n",
              "      <td>0</td>\n",
              "      <td>would informative add</td>\n",
              "      <td>would inform add</td>\n",
              "    </tr>\n",
              "  </tbody>\n",
              "</table>\n",
              "</div>"
            ],
            "text/plain": [
              "                                        comment_text  ...                                         stem_paper\n",
              "0  \"\\n\\n Please do not vandalize pages, as you di...  ...  pleas vandal page edit timelin evolut If conti...\n",
              "1  \"::Yes, lets pretend it was just \"\"general cha...  ...  ye let pretend gener chatter like talk weather...\n",
              "2  Well, it's also almost 9:00am here, and I have...  ...  well also almost I even morn coffe yet thank n...\n",
              "3        Obsessive-compulsive_disorder 76.166.31.163  ...                           obsess compulsive_disord\n",
              "4           it would be informative for me to add it  ...                                   would inform add\n",
              "\n",
              "[5 rows x 4 columns]"
            ]
          },
          "metadata": {},
          "execution_count": 24
        }
      ]
    },
    {
      "cell_type": "markdown",
      "metadata": {
        "id": "tuTLCMIChOvI"
      },
      "source": [
        "# Preprocessing for input data for the model"
      ],
      "id": "tuTLCMIChOvI"
    },
    {
      "cell_type": "code",
      "metadata": {
        "id": "0a4e594b",
        "colab": {
          "base_uri": "https://localhost:8080/"
        },
        "outputId": "c757a1be-d579-40ce-c202-60f8ac74e7f8"
      },
      "source": [
        "def get_vocab(df):\n",
        "    tweets  = ' '.join(list(df.stem_paper))\n",
        "    V = []\n",
        "    stop_words = set(stopwords.words('english'))\n",
        "    for word in tweets.split():\n",
        "        if (word not in V) and (word not in stop_words): \n",
        "            V.append(word)\n",
        "    return V\n",
        "\n",
        "V = get_vocab(df)\n",
        "print(len(V))"
      ],
      "id": "0a4e594b",
      "execution_count": null,
      "outputs": [
        {
          "output_type": "stream",
          "name": "stdout",
          "text": [
            "48415\n"
          ]
        }
      ]
    },
    {
      "cell_type": "code",
      "metadata": {
        "id": "c237569a"
      },
      "source": [
        "def word_frequencies(df, V):\n",
        "    pos_fr = dict.fromkeys(V, 0)\n",
        "    neg_fr = dict.fromkeys(V, 0)\n",
        "\n",
        "    for i in range(df.shape[0]):\n",
        "        word_list = (df.iloc[i].stem_paper).split(' ')\n",
        "        sent = df.iloc[i].toxic\n",
        "        for word in word_list:\n",
        "            if word in V:\n",
        "                if sent == 0:\n",
        "                    neg_fr[word] += 1\n",
        "                else:\n",
        "                    pos_fr[word] += 1\n",
        "                    \n",
        "    return (pos_fr, neg_fr)"
      ],
      "id": "c237569a",
      "execution_count": null,
      "outputs": []
    },
    {
      "cell_type": "code",
      "metadata": {
        "id": "2448145c"
      },
      "source": [
        "pos_dict, neg_dict = word_frequencies(df,V)"
      ],
      "id": "2448145c",
      "execution_count": null,
      "outputs": []
    },
    {
      "cell_type": "code",
      "metadata": {
        "id": "72ec898d"
      },
      "source": [
        "def transform_data(df, pos_dict, neg_dict, V):\n",
        "    new_df = {'bias':[], 'positivity':[], 'negativity':[], 'target_senti':[]}\n",
        "    stemed_sentences = df.stem_paper\n",
        "   \n",
        "    for sentence in stemed_sentences:\n",
        "        positivity = 0\n",
        "        negativity = 0\n",
        "        words = sentence.split()\n",
        "        #count positivity\n",
        "        for word in words:\n",
        "            if word in V:\n",
        "                positivity += pos_dict[word]\n",
        "                negativity += neg_dict[word]\n",
        "\n",
        "        new_df['bias'].append(1)\n",
        "        new_df['positivity'].append(positivity)\n",
        "        new_df['negativity'].append(negativity)\n",
        "        new_df['target_senti'] = df.toxic\n",
        "\n",
        "    return pd.DataFrame(new_df)    \n",
        "\n",
        "    "
      ],
      "id": "72ec898d",
      "execution_count": null,
      "outputs": []
    },
    {
      "cell_type": "code",
      "metadata": {
        "id": "66bf5bb8",
        "colab": {
          "base_uri": "https://localhost:8080/",
          "height": 206
        },
        "outputId": "8db30ff0-ffce-4b22-8733-9bddd345980d"
      },
      "source": [
        "trans_df = transform_data(df, pos_dict, neg_dict, V)\n",
        "trans_df.head()"
      ],
      "id": "66bf5bb8",
      "execution_count": null,
      "outputs": [
        {
          "output_type": "execute_result",
          "data": {
            "text/html": [
              "<div>\n",
              "<style scoped>\n",
              "    .dataframe tbody tr th:only-of-type {\n",
              "        vertical-align: middle;\n",
              "    }\n",
              "\n",
              "    .dataframe tbody tr th {\n",
              "        vertical-align: top;\n",
              "    }\n",
              "\n",
              "    .dataframe thead th {\n",
              "        text-align: right;\n",
              "    }\n",
              "</style>\n",
              "<table border=\"1\" class=\"dataframe\">\n",
              "  <thead>\n",
              "    <tr style=\"text-align: right;\">\n",
              "      <th></th>\n",
              "      <th>bias</th>\n",
              "      <th>positivity</th>\n",
              "      <th>negativity</th>\n",
              "      <th>target_senti</th>\n",
              "    </tr>\n",
              "  </thead>\n",
              "  <tbody>\n",
              "    <tr>\n",
              "      <th>0</th>\n",
              "      <td>1</td>\n",
              "      <td>13043</td>\n",
              "      <td>23433</td>\n",
              "      <td>0</td>\n",
              "    </tr>\n",
              "    <tr>\n",
              "      <th>1</th>\n",
              "      <td>1</td>\n",
              "      <td>6528</td>\n",
              "      <td>8911</td>\n",
              "      <td>0</td>\n",
              "    </tr>\n",
              "    <tr>\n",
              "      <th>2</th>\n",
              "      <td>1</td>\n",
              "      <td>25558</td>\n",
              "      <td>32581</td>\n",
              "      <td>0</td>\n",
              "    </tr>\n",
              "    <tr>\n",
              "      <th>3</th>\n",
              "      <td>1</td>\n",
              "      <td>63</td>\n",
              "      <td>29</td>\n",
              "      <td>0</td>\n",
              "    </tr>\n",
              "    <tr>\n",
              "      <th>4</th>\n",
              "      <td>1</td>\n",
              "      <td>1879</td>\n",
              "      <td>5467</td>\n",
              "      <td>0</td>\n",
              "    </tr>\n",
              "  </tbody>\n",
              "</table>\n",
              "</div>"
            ],
            "text/plain": [
              "   bias  positivity  negativity  target_senti\n",
              "0     1       13043       23433             0\n",
              "1     1        6528        8911             0\n",
              "2     1       25558       32581             0\n",
              "3     1          63          29             0\n",
              "4     1        1879        5467             0"
            ]
          },
          "metadata": {},
          "execution_count": 38
        }
      ]
    },
    {
      "cell_type": "markdown",
      "metadata": {
        "id": "5iSp_cCdhWv9"
      },
      "source": [
        "# Splitting by Kfold"
      ],
      "id": "5iSp_cCdhWv9"
    },
    {
      "cell_type": "code",
      "metadata": {
        "id": "d764b900"
      },
      "source": [
        "kfold = KFold(n_splits = 5, shuffle = True)"
      ],
      "id": "d764b900",
      "execution_count": null,
      "outputs": []
    },
    {
      "cell_type": "code",
      "metadata": {
        "id": "4573ea76",
        "colab": {
          "base_uri": "https://localhost:8080/",
          "height": 112
        },
        "outputId": "01f4477a-473c-4146-c11e-de0b92ed1264"
      },
      "source": [
        "trans_df.iloc[['1','2']]"
      ],
      "id": "4573ea76",
      "execution_count": null,
      "outputs": [
        {
          "output_type": "execute_result",
          "data": {
            "text/html": [
              "<div>\n",
              "<style scoped>\n",
              "    .dataframe tbody tr th:only-of-type {\n",
              "        vertical-align: middle;\n",
              "    }\n",
              "\n",
              "    .dataframe tbody tr th {\n",
              "        vertical-align: top;\n",
              "    }\n",
              "\n",
              "    .dataframe thead th {\n",
              "        text-align: right;\n",
              "    }\n",
              "</style>\n",
              "<table border=\"1\" class=\"dataframe\">\n",
              "  <thead>\n",
              "    <tr style=\"text-align: right;\">\n",
              "      <th></th>\n",
              "      <th>bias</th>\n",
              "      <th>positivity</th>\n",
              "      <th>negativity</th>\n",
              "      <th>target_senti</th>\n",
              "    </tr>\n",
              "  </thead>\n",
              "  <tbody>\n",
              "    <tr>\n",
              "      <th>1</th>\n",
              "      <td>1</td>\n",
              "      <td>6528</td>\n",
              "      <td>8911</td>\n",
              "      <td>0</td>\n",
              "    </tr>\n",
              "    <tr>\n",
              "      <th>2</th>\n",
              "      <td>1</td>\n",
              "      <td>25558</td>\n",
              "      <td>32581</td>\n",
              "      <td>0</td>\n",
              "    </tr>\n",
              "  </tbody>\n",
              "</table>\n",
              "</div>"
            ],
            "text/plain": [
              "   bias  positivity  negativity  target_senti\n",
              "1     1        6528        8911             0\n",
              "2     1       25558       32581             0"
            ]
          },
          "metadata": {},
          "execution_count": 40
        }
      ]
    },
    {
      "cell_type": "markdown",
      "metadata": {
        "id": "-8_PbCBZheyL"
      },
      "source": [
        "# Defining logistic regression model\n",
        "\n",
        "### Accurancy of the model"
      ],
      "id": "-8_PbCBZheyL"
    },
    {
      "cell_type": "code",
      "metadata": {
        "id": "26246c3c",
        "colab": {
          "base_uri": "https://localhost:8080/"
        },
        "outputId": "3d597747-baae-4be4-a65a-4601e38a4ad9"
      },
      "source": [
        "from sklearn.linear_model import LogisticRegression \n",
        "from sklearn.metrics import accuracy_score, f1_score, recall_score, confusion_matrix\n",
        "\n",
        "X = trans_df[['bias', 'positivity', 'negativity']]\n",
        "Y = trans_df.target_senti\n",
        "avg = 0\n",
        "avg_f1 = 0\n",
        "avg_rec = 0\n",
        "\n",
        "for train_index, test_index in kfold.split(trans_df):\n",
        "    X_train, X_test = X.iloc[train_index], X.iloc[test_index]\n",
        "    Y_train, Y_test = Y.iloc[train_index], Y.iloc[test_index]\n",
        "\n",
        "    sk_model = LogisticRegression().fit(X_train,Y_train)\n",
        "    pred = sk_model.predict(X_test)\n",
        "    score = accuracy_score(Y_test, pred)\n",
        "    recall = recall_score(Y_test, pred)\n",
        "    f1 = f1_score(Y_test, pred)\n",
        "    \n",
        "    avg += score\n",
        "    avg_f1 += f1\n",
        "    avg_rec += recall\n",
        "    \n",
        "    print('Acc: {}, F1: {}, Recall: {}'.format(score, f1, recall))\n",
        "    print('Confusion matrix: ')\n",
        "    print(confusion_matrix(Y_test,pred))\n",
        "\n",
        "m = kfold.get_n_splits()\n",
        "\n",
        "print('Avg Acc: {} ,Avg  F1: {}, Avg Recall: {}'.format(avg/m, avg_f1/m, avg_rec/m))"
      ],
      "id": "26246c3c",
      "execution_count": null,
      "outputs": [
        {
          "output_type": "stream",
          "name": "stdout",
          "text": [
            "Acc: 0.8119549706675123, F1: 0.8093860495017678, Recall: 0.7871209753047828\n",
            "Confusion matrix: \n",
            "[[2603  505]\n",
            " [ 681 2518]]\n",
            "Acc: 0.8141747264943713, F1: 0.8088714938030006, Recall: 0.7925854905720677\n",
            "Confusion matrix: \n",
            "[[2655  523]\n",
            " [ 649 2480]]\n",
            "Acc: 0.8056128111622007, F1: 0.7974223397224057, Recall: 0.7731496315283563\n",
            "Confusion matrix: \n",
            "[[2668  518]\n",
            " [ 708 2413]]\n",
            "Acc: 0.8149674964325353, F1: 0.8097799511002445, Recall: 0.789574062301335\n",
            "Confusion matrix: \n",
            "[[2656  505]\n",
            " [ 662 2484]]\n",
            "Acc: 0.8108150967332699, F1: 0.8075496047749636, Recall: 0.7890920554854981\n",
            "Confusion matrix: \n",
            "[[2610  524]\n",
            " [ 669 2503]]\n",
            "Avg Acc: 0.8115050202979779 ,Avg  F1: 0.8066018877804766, Avg Recall: 0.7863044430384079\n"
          ]
        }
      ]
    },
    {
      "cell_type": "markdown",
      "metadata": {
        "id": "6aCnNVWOhnwk"
      },
      "source": [
        "# Downloading model trained"
      ],
      "id": "6aCnNVWOhnwk"
    },
    {
      "cell_type": "code",
      "metadata": {
        "colab": {
          "base_uri": "https://localhost:8080/"
        },
        "id": "41ic8i1Rf64G",
        "outputId": "1ac74b6a-731a-45b2-9a03-9993b2588245"
      },
      "source": [
        "from joblib import dump\n",
        "\n",
        "dump(sk_model, 'modeLr.joblib')"
      ],
      "id": "41ic8i1Rf64G",
      "execution_count": null,
      "outputs": [
        {
          "output_type": "execute_result",
          "data": {
            "text/plain": [
              "['modeLr.joblib']"
            ]
          },
          "metadata": {},
          "execution_count": 43
        }
      ]
    },
    {
      "cell_type": "code",
      "metadata": {
        "id": "rvYZii4mgglY"
      },
      "source": [
        "# save the model to disk\n",
        "filename = 'modeLr.sav'\n",
        "pickle.dump(sk_model, open(filename, 'wb'))\n"
      ],
      "id": "rvYZii4mgglY",
      "execution_count": null,
      "outputs": []
    },
    {
      "cell_type": "code",
      "metadata": {
        "id": "RYMfkRYJhuj5"
      },
      "source": [
        ""
      ],
      "id": "RYMfkRYJhuj5",
      "execution_count": null,
      "outputs": []
    }
  ]
}